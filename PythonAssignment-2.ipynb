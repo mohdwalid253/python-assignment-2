{
 "cells": [
  {
   "cell_type": "code",
   "execution_count": 5,
   "id": "393645e7-d382-4400-ac88-10b16512ebcf",
   "metadata": {},
   "outputs": [
    {
     "name": "stdout",
     "output_type": "stream",
     "text": [
      "GOOD MORNING\n",
      "good morning\n",
      "Good Morning\n"
     ]
    }
   ],
   "source": [
    "# 1.\tStore a message in a variable and print it in:\n",
    "# Uppercase\n",
    "# Lowercase\n",
    "# Title case (first letter capitalized)\n",
    "message = \"Good morning\"\n",
    "print(message.upper())\n",
    "print(message.lower())\n",
    "print(message.title())"
   ]
  },
  {
   "cell_type": "code",
   "execution_count": 7,
   "id": "d80f8756-6c3c-4c07-b303-357d9c7a901f",
   "metadata": {},
   "outputs": [
    {
     "name": "stdout",
     "output_type": "stream",
     "text": [
      "Hello Alice, welcome to Python programming!\n"
     ]
    }
   ],
   "source": [
    "'''2.\tStore a person’s name in a variable. Print a message such as:\n",
    "\"Hello Alice, welcome to Python programming!\"\n",
    "'''\n",
    "name = \"Alice\"\n",
    "print(f\"Hello {name}, welcome to Python programming!\")"
   ]
  },
  {
   "cell_type": "code",
   "execution_count": 12,
   "id": "0272ad95-b676-4aa3-bc5b-116d6b84bf38",
   "metadata": {},
   "outputs": [
    {
     "name": "stdout",
     "output_type": "stream",
     "text": [
      "P\n",
      "n\n",
      "6\n"
     ]
    }
   ],
   "source": [
    "'''3.\tStore a word in a variable and print:\n",
    "The first character\n",
    "The last character\n",
    "The length of the word\n",
    "'''\n",
    "my_var = \"Python\"\n",
    "print(my_var[0])\n",
    "print(my_var[-1])\n",
    "print(len(my_var))"
   ]
  },
  {
   "cell_type": "code",
   "execution_count": 13,
   "id": "717005bd-b88f-41a5-8e00-4c7477cee53b",
   "metadata": {},
   "outputs": [
    {
     "name": "stdout",
     "output_type": "stream",
     "text": [
      "Mahatma Gandhi once said, \"Be the change that you wish to see in the world.\n"
     ]
    }
   ],
   "source": [
    "'''4.\tFind your favorite quote and print it with quotation marks. Example:\n",
    "\"Mahatma Gandhi once said, “Be the change that you wish to see in the world.”\n",
    "'''\n",
    "print(\"Mahatma Gandhi once said, \\\"Be the change that you wish to see in the world.\")"
   ]
  },
  {
   "cell_type": "code",
   "execution_count": 14,
   "id": "fed874aa-2cc7-442a-b4d4-062f23559d3d",
   "metadata": {},
   "outputs": [
    {
     "name": "stdout",
     "output_type": "stream",
     "text": [
      "Good Morning\n"
     ]
    }
   ],
   "source": [
    "# 5.\tStore two strings in different variables and print them joined with a space in between.\n",
    "string1 = \"Good\"\n",
    "string2 = \"Morning\"\n",
    "print(string1+\" \"+string2)"
   ]
  },
  {
   "cell_type": "code",
   "execution_count": 15,
   "id": "366241db-7c72-43b8-b763-5497b5d69efc",
   "metadata": {},
   "outputs": [
    {
     "name": "stdout",
     "output_type": "stream",
     "text": [
      "True\n"
     ]
    }
   ],
   "source": [
    "# 6.\tStore a sentence in a variable and check if it contains the word \"Python\". Print True or False.\n",
    "message2 = \"Hello Alice, welcome to Python programming!\"\n",
    "contains_word = \"Python\" in message2  # Use of \"in\" key-word\n",
    "print(contains_word)"
   ]
  },
  {
   "cell_type": "code",
   "execution_count": 16,
   "id": "5f4f9a59-8cfd-453a-a699-f4d5c929f5cc",
   "metadata": {},
   "outputs": [
    {
     "name": "stdin",
     "output_type": "stream",
     "text": [
      "Please, enter your name: Walid\n"
     ]
    },
    {
     "name": "stdout",
     "output_type": "stream",
     "text": [
      "Hello Walid, how are you today?\n"
     ]
    }
   ],
   "source": [
    "'''7.\tAsk the user to enter their name and print:\n",
    "\"Hello <name>, how are you today?\"\n",
    "'''\n",
    "name = input(\"Please, enter your name:\")\n",
    "print(f\"Hello {name}, how are you today?\")"
   ]
  },
  {
   "cell_type": "code",
   "execution_count": 17,
   "id": "5eb5c535-710f-4b5d-b5ee-8778d2891f3f",
   "metadata": {},
   "outputs": [
    {
     "name": "stdin",
     "output_type": "stream",
     "text": [
      "Enter your age: 24\n"
     ]
    },
    {
     "name": "stdout",
     "output_type": "stream",
     "text": [
      "You are 24 years old\n"
     ]
    }
   ],
   "source": [
    "'''8.\tAsk the user to enter their age and print:\n",
    "\"You are <age> years old.\"\n",
    "'''\n",
    "age = input(\"Enter your age:\")\n",
    "print(f\"You are {age} years old\")"
   ]
  },
  {
   "cell_type": "code",
   "execution_count": 24,
   "id": "54344f07-5ffc-4146-80df-de4ebe87c2ff",
   "metadata": {},
   "outputs": [
    {
     "name": "stdin",
     "output_type": "stream",
     "text": [
      "Enter first number: 21\n",
      "Enter second number: 0\n"
     ]
    },
    {
     "name": "stdout",
     "output_type": "stream",
     "text": [
      "21.0\n",
      "21.0\n",
      "0.0\n",
      "Division not possible\n"
     ]
    }
   ],
   "source": [
    "'''9.\tAsk the user for two numbers and print their:\n",
    "Sum\n",
    "Difference\n",
    "Product\n",
    "Quotient\n",
    "'''\n",
    "num1 = float(input(\"Enter first number:\"))\n",
    "num2 = float(input(\"Enter second number:\"))\n",
    "print(num1 + num2)\n",
    "print(num1 - num2)\n",
    "print(num1 * num2)\n",
    "if num2 == 0:\n",
    "    print(\"Division not possible\")\n",
    "else:\n",
    "    print(num1 / num2)"
   ]
  },
  {
   "cell_type": "code",
   "execution_count": 38,
   "id": "ad8e572c-24c8-4d3b-8ecf-a8d84b36c100",
   "metadata": {},
   "outputs": [
    {
     "name": "stdin",
     "output_type": "stream",
     "text": [
      "Enter a sentence: Ask the user\n"
     ]
    },
    {
     "name": "stdout",
     "output_type": "stream",
     "text": [
      "['user', 'the', 'Ask']\n",
      "user the Ask\n"
     ]
    }
   ],
   "source": [
    "# 10.\tAsk the user to enter a sentence and print it reversed.\n",
    "sentence = input(\"Enter a sentence:\")\n",
    "list1 = sentence.split()\n",
    "print(list1[::-1])\n",
    "rev_sen = \" \".join(sentence.split()[::-1])\n",
    "print(rev_sen)"
   ]
  },
  {
   "cell_type": "code",
   "execution_count": 39,
   "id": "c7198e7e-9184-4fb9-a22d-55e212dad830",
   "metadata": {},
   "outputs": [
    {
     "name": "stdin",
     "output_type": "stream",
     "text": [
      "Enter your favorite color red\n"
     ]
    },
    {
     "name": "stdout",
     "output_type": "stream",
     "text": [
      "wow! red is a beautiful color!\n"
     ]
    }
   ],
   "source": [
    "'''11.\tAsk the user for their favorite color and print:\n",
    "\"Wow! <color> is a beautiful color!\"\n",
    "'''\n",
    "color = input(\"Enter your favorite color\")\n",
    "print(f\"Wow! {color} is a beautiful color!\")"
   ]
  },
  {
   "cell_type": "code",
   "execution_count": 44,
   "id": "58310f1b-52bb-4791-9b34-0eea5b6c0112",
   "metadata": {},
   "outputs": [
    {
     "name": "stdin",
     "output_type": "stream",
     "text": [
      "Enter a number: 21\n"
     ]
    },
    {
     "name": "stdout",
     "output_type": "stream",
     "text": [
      "False\n"
     ]
    }
   ],
   "source": [
    "# 12.\tAsk the user to enter a number and print True if it is greater than 50, otherwise print False.\n",
    "user = float(input(\"Enter a number:\"))\n",
    "if user > 50:\n",
    "    print(True)\n",
    "else:\n",
    "    print(False)"
   ]
  },
  {
   "cell_type": "code",
   "execution_count": 47,
   "id": "6d8e353f-4d91-4856-8c7d-01989645c0f0",
   "metadata": {},
   "outputs": [
    {
     "name": "stdin",
     "output_type": "stream",
     "text": [
      "Enter a number: 24\n"
     ]
    },
    {
     "name": "stdout",
     "output_type": "stream",
     "text": [
      "True\n"
     ]
    }
   ],
   "source": [
    "# 13.\tAsk the user to enter a number and print True if it is even, otherwise print False.\n",
    "user2 = float(input(\"Enter a number:\"))\n",
    "if user2%2 ==0:\n",
    "    print(True)\n",
    "else:\n",
    "    print(False)"
   ]
  },
  {
   "cell_type": "code",
   "execution_count": 50,
   "id": "88432f3c-be85-4390-a30d-192f28d58a22",
   "metadata": {},
   "outputs": [
    {
     "name": "stdin",
     "output_type": "stream",
     "text": [
      "Enter your age: 18\n"
     ]
    },
    {
     "name": "stdout",
     "output_type": "stream",
     "text": [
      "True\n"
     ]
    }
   ],
   "source": [
    "# 14.\tAsk the user to enter their age and check if they are eligible to vote (age ≥ 18). Print True or False.\n",
    "age = float(input(\"Enter your age:\"))\n",
    "if user >= 18:\n",
    "    print(True)\n",
    "else:\n",
    "    print(False)"
   ]
  },
  {
   "cell_type": "code",
   "execution_count": 52,
   "id": "055bb3af-8c78-45cf-9bfc-3d773058dc11",
   "metadata": {},
   "outputs": [
    {
     "name": "stdin",
     "output_type": "stream",
     "text": [
      "Enter first number: 21\n",
      "Enter second number: 20\n"
     ]
    },
    {
     "name": "stdout",
     "output_type": "stream",
     "text": [
      "True\n"
     ]
    }
   ],
   "source": [
    "# 15.\tAsk the user to enter two numbers and print True if the first number is greater than the second, else print False.\n",
    "num1 = float(input(\"Enter first number:\"))\n",
    "num2 = float(input(\"Enter second number:\"))\n",
    "if num1 > num2:\n",
    "    print(True)\n",
    "else:\n",
    "    print(False)"
   ]
  },
  {
   "cell_type": "code",
   "execution_count": 55,
   "id": "dd99d8a3-1305-4271-8249-a342827fabe4",
   "metadata": {},
   "outputs": [
    {
     "name": "stdin",
     "output_type": "stream",
     "text": [
      "Enter a word: now\n"
     ]
    },
    {
     "name": "stdout",
     "output_type": "stream",
     "text": [
      "False\n"
     ]
    }
   ],
   "source": [
    "# 16.\tAsk the user to enter a word and check if its length is more than 5 characters. Print True or False.\n",
    "word = input(\"Enter a word:\")\n",
    "if len(word) > 5:\n",
    "    print(True)\n",
    "else:\n",
    "    print(False)"
   ]
  },
  {
   "cell_type": "code",
   "execution_count": 64,
   "id": "d1228b5b-149e-46e9-9f6e-5ec8abf45988",
   "metadata": {},
   "outputs": [
    {
     "name": "stdin",
     "output_type": "stream",
     "text": [
      "Enter your password: W@lid789\n"
     ]
    },
    {
     "name": "stdout",
     "output_type": "stream",
     "text": [
      "True\n"
     ]
    }
   ],
   "source": [
    "'''17.\tWrite a program that asks the user to enter a password.\n",
    "Your program should check and print:\n",
    " - True if the password length is at least 8 characters and contains the word \"@\" or \"#\".\n",
    " - False otherwise.\n",
    "'''\n",
    "password = input(\"Enter your password:\")\n",
    "if len(password) >= 8:\n",
    "    if \"@\" or \"#\" in password:\n",
    "        print(True)\n",
    "else:\n",
    "    print(False)"
   ]
  },
  {
   "cell_type": "code",
   "execution_count": null,
   "id": "ccae6cb1-0529-4717-a6a0-2674420850fc",
   "metadata": {},
   "outputs": [],
   "source": []
  }
 ],
 "metadata": {
  "kernelspec": {
   "display_name": "Python [conda env:base] *",
   "language": "python",
   "name": "conda-base-py"
  },
  "language_info": {
   "codemirror_mode": {
    "name": "ipython",
    "version": 3
   },
   "file_extension": ".py",
   "mimetype": "text/x-python",
   "name": "python",
   "nbconvert_exporter": "python",
   "pygments_lexer": "ipython3",
   "version": "3.13.5"
  }
 },
 "nbformat": 4,
 "nbformat_minor": 5
}
